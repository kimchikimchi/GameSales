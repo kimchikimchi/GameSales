{
 "metadata": {
  "language_info": {
   "codemirror_mode": {
    "name": "ipython",
    "version": 3
   },
   "file_extension": ".py",
   "mimetype": "text/x-python",
   "name": "python",
   "nbconvert_exporter": "python",
   "pygments_lexer": "ipython3",
   "version": "3.8.5"
  },
  "orig_nbformat": 2,
  "kernelspec": {
   "name": "python385jvsc74a57bd0e134e05457d34029b6460cd73bbf1ed73f339b5b6d98c95be70b69eba114fe95",
   "display_name": "Python 3.8.5 64-bit ('base': conda)"
  }
 },
 "nbformat": 4,
 "nbformat_minor": 2,
 "cells": [
  {
   "cell_type": "code",
   "execution_count": 1,
   "metadata": {},
   "outputs": [],
   "source": [
    "# Import libraries\n",
    "import pandas as pd\n",
    "import json\n",
    "\n",
    "# Import SQL Alchemy\n",
    "from sqlalchemy import create_engine"
   ]
  },
  {
   "cell_type": "code",
   "execution_count": 2,
   "metadata": {},
   "outputs": [
    {
     "output_type": "execute_result",
     "data": {
      "text/plain": [
       "     Month  new video games: (United States)  xbox games: (United States)  \\\n",
       "0  2005-01                                 2                           40   \n",
       "1  2005-02                                 3                           26   \n",
       "2  2005-03                                 2                           25   \n",
       "3  2005-04                                 2                           29   \n",
       "4  2005-05                                 3                           37   \n",
       "\n",
       "   playstation games: (United States)  nintendo games: (United States)  \n",
       "0                                  20                               16  \n",
       "1                                  14                               16  \n",
       "2                                  16                               16  \n",
       "3                                  13                               13  \n",
       "4                                  14                               16  "
      ],
      "text/html": "<div>\n<style scoped>\n    .dataframe tbody tr th:only-of-type {\n        vertical-align: middle;\n    }\n\n    .dataframe tbody tr th {\n        vertical-align: top;\n    }\n\n    .dataframe thead th {\n        text-align: right;\n    }\n</style>\n<table border=\"1\" class=\"dataframe\">\n  <thead>\n    <tr style=\"text-align: right;\">\n      <th></th>\n      <th>Month</th>\n      <th>new video games: (United States)</th>\n      <th>xbox games: (United States)</th>\n      <th>playstation games: (United States)</th>\n      <th>nintendo games: (United States)</th>\n    </tr>\n  </thead>\n  <tbody>\n    <tr>\n      <th>0</th>\n      <td>2005-01</td>\n      <td>2</td>\n      <td>40</td>\n      <td>20</td>\n      <td>16</td>\n    </tr>\n    <tr>\n      <th>1</th>\n      <td>2005-02</td>\n      <td>3</td>\n      <td>26</td>\n      <td>14</td>\n      <td>16</td>\n    </tr>\n    <tr>\n      <th>2</th>\n      <td>2005-03</td>\n      <td>2</td>\n      <td>25</td>\n      <td>16</td>\n      <td>16</td>\n    </tr>\n    <tr>\n      <th>3</th>\n      <td>2005-04</td>\n      <td>2</td>\n      <td>29</td>\n      <td>13</td>\n      <td>13</td>\n    </tr>\n    <tr>\n      <th>4</th>\n      <td>2005-05</td>\n      <td>3</td>\n      <td>37</td>\n      <td>14</td>\n      <td>16</td>\n    </tr>\n  </tbody>\n</table>\n</div>"
     },
     "metadata": {},
     "execution_count": 2
    }
   ],
   "source": [
    "# Import CSV data into DataFrame\n",
    "# The 2nd row contains the actual header, so supply header param.\n",
    "\n",
    "\n",
    "# Data Source: https://trends.google.com/trends/explore?date=2004-12-31%202017-12-31&geo=US&q=new%20video%20games,xbox%20games,playstation%20games,nintendo%20games\n",
    "google_trends_df = pd.read_csv('resources/google_trends.csv', header=[1])\n",
    "google_trends_df.head()"
   ]
  },
  {
   "cell_type": "code",
   "execution_count": 3,
   "metadata": {},
   "outputs": [
    {
     "output_type": "execute_result",
     "data": {
      "text/plain": [
       "  year_month  new_games  xbox  playstation  nintendo\n",
       "0    2005-01          2    40           20        16\n",
       "1    2005-02          3    26           14        16\n",
       "2    2005-03          2    25           16        16\n",
       "3    2005-04          2    29           13        13\n",
       "4    2005-05          3    37           14        16"
      ],
      "text/html": "<div>\n<style scoped>\n    .dataframe tbody tr th:only-of-type {\n        vertical-align: middle;\n    }\n\n    .dataframe tbody tr th {\n        vertical-align: top;\n    }\n\n    .dataframe thead th {\n        text-align: right;\n    }\n</style>\n<table border=\"1\" class=\"dataframe\">\n  <thead>\n    <tr style=\"text-align: right;\">\n      <th></th>\n      <th>year_month</th>\n      <th>new_games</th>\n      <th>xbox</th>\n      <th>playstation</th>\n      <th>nintendo</th>\n    </tr>\n  </thead>\n  <tbody>\n    <tr>\n      <th>0</th>\n      <td>2005-01</td>\n      <td>2</td>\n      <td>40</td>\n      <td>20</td>\n      <td>16</td>\n    </tr>\n    <tr>\n      <th>1</th>\n      <td>2005-02</td>\n      <td>3</td>\n      <td>26</td>\n      <td>14</td>\n      <td>16</td>\n    </tr>\n    <tr>\n      <th>2</th>\n      <td>2005-03</td>\n      <td>2</td>\n      <td>25</td>\n      <td>16</td>\n      <td>16</td>\n    </tr>\n    <tr>\n      <th>3</th>\n      <td>2005-04</td>\n      <td>2</td>\n      <td>29</td>\n      <td>13</td>\n      <td>13</td>\n    </tr>\n    <tr>\n      <th>4</th>\n      <td>2005-05</td>\n      <td>3</td>\n      <td>37</td>\n      <td>14</td>\n      <td>16</td>\n    </tr>\n  </tbody>\n</table>\n</div>"
     },
     "metadata": {},
     "execution_count": 3
    }
   ],
   "source": [
    "# Simply the col haders\n",
    "google_trends_df.columns = ['year_month', 'new_games', 'xbox', 'playstation', 'nintendo']\n",
    "google_trends_df.head()"
   ]
  },
  {
   "cell_type": "code",
   "execution_count": 4,
   "metadata": {},
   "outputs": [
    {
     "output_type": "execute_result",
     "data": {
      "text/plain": [
       "  year_month  new_games  xbox  playstation  nintendo  year month\n",
       "0    2005-01          2    40           20        16  2005    01\n",
       "1    2005-02          3    26           14        16  2005    02\n",
       "2    2005-03          2    25           16        16  2005    03\n",
       "3    2005-04          2    29           13        13  2005    04\n",
       "4    2005-05          3    37           14        16  2005    05"
      ],
      "text/html": "<div>\n<style scoped>\n    .dataframe tbody tr th:only-of-type {\n        vertical-align: middle;\n    }\n\n    .dataframe tbody tr th {\n        vertical-align: top;\n    }\n\n    .dataframe thead th {\n        text-align: right;\n    }\n</style>\n<table border=\"1\" class=\"dataframe\">\n  <thead>\n    <tr style=\"text-align: right;\">\n      <th></th>\n      <th>year_month</th>\n      <th>new_games</th>\n      <th>xbox</th>\n      <th>playstation</th>\n      <th>nintendo</th>\n      <th>year</th>\n      <th>month</th>\n    </tr>\n  </thead>\n  <tbody>\n    <tr>\n      <th>0</th>\n      <td>2005-01</td>\n      <td>2</td>\n      <td>40</td>\n      <td>20</td>\n      <td>16</td>\n      <td>2005</td>\n      <td>01</td>\n    </tr>\n    <tr>\n      <th>1</th>\n      <td>2005-02</td>\n      <td>3</td>\n      <td>26</td>\n      <td>14</td>\n      <td>16</td>\n      <td>2005</td>\n      <td>02</td>\n    </tr>\n    <tr>\n      <th>2</th>\n      <td>2005-03</td>\n      <td>2</td>\n      <td>25</td>\n      <td>16</td>\n      <td>16</td>\n      <td>2005</td>\n      <td>03</td>\n    </tr>\n    <tr>\n      <th>3</th>\n      <td>2005-04</td>\n      <td>2</td>\n      <td>29</td>\n      <td>13</td>\n      <td>13</td>\n      <td>2005</td>\n      <td>04</td>\n    </tr>\n    <tr>\n      <th>4</th>\n      <td>2005-05</td>\n      <td>3</td>\n      <td>37</td>\n      <td>14</td>\n      <td>16</td>\n      <td>2005</td>\n      <td>05</td>\n    </tr>\n  </tbody>\n</table>\n</div>"
     },
     "metadata": {},
     "execution_count": 4
    }
   ],
   "source": [
    "# split year_month to two separate cols.\n",
    "google_trends_df[['year', 'month']] = google_trends_df['year_month'].str.split('-',expand=True)\n",
    "\n",
    "google_trends_df.head()"
   ]
  },
  {
   "cell_type": "code",
   "execution_count": 5,
   "metadata": {},
   "outputs": [
    {
     "output_type": "execute_result",
     "data": {
      "text/plain": [
       "     new_games  xbox  playstation  nintendo  year month\n",
       "0            2    40           20        16  2005    01\n",
       "1            3    26           14        16  2005    02\n",
       "2            2    25           16        16  2005    03\n",
       "3            2    29           13        13  2005    04\n",
       "4            3    37           14        16  2005    05\n",
       "..         ...   ...          ...       ...   ...   ...\n",
       "151          1    37            8        15  2017    08\n",
       "152          1    35            8        18  2017    09\n",
       "153          1    34            8        20  2017    10\n",
       "154          2    69           14        37  2017    11\n",
       "155          2    76           16        49  2017    12\n",
       "\n",
       "[156 rows x 6 columns]"
      ],
      "text/html": "<div>\n<style scoped>\n    .dataframe tbody tr th:only-of-type {\n        vertical-align: middle;\n    }\n\n    .dataframe tbody tr th {\n        vertical-align: top;\n    }\n\n    .dataframe thead th {\n        text-align: right;\n    }\n</style>\n<table border=\"1\" class=\"dataframe\">\n  <thead>\n    <tr style=\"text-align: right;\">\n      <th></th>\n      <th>new_games</th>\n      <th>xbox</th>\n      <th>playstation</th>\n      <th>nintendo</th>\n      <th>year</th>\n      <th>month</th>\n    </tr>\n  </thead>\n  <tbody>\n    <tr>\n      <th>0</th>\n      <td>2</td>\n      <td>40</td>\n      <td>20</td>\n      <td>16</td>\n      <td>2005</td>\n      <td>01</td>\n    </tr>\n    <tr>\n      <th>1</th>\n      <td>3</td>\n      <td>26</td>\n      <td>14</td>\n      <td>16</td>\n      <td>2005</td>\n      <td>02</td>\n    </tr>\n    <tr>\n      <th>2</th>\n      <td>2</td>\n      <td>25</td>\n      <td>16</td>\n      <td>16</td>\n      <td>2005</td>\n      <td>03</td>\n    </tr>\n    <tr>\n      <th>3</th>\n      <td>2</td>\n      <td>29</td>\n      <td>13</td>\n      <td>13</td>\n      <td>2005</td>\n      <td>04</td>\n    </tr>\n    <tr>\n      <th>4</th>\n      <td>3</td>\n      <td>37</td>\n      <td>14</td>\n      <td>16</td>\n      <td>2005</td>\n      <td>05</td>\n    </tr>\n    <tr>\n      <th>...</th>\n      <td>...</td>\n      <td>...</td>\n      <td>...</td>\n      <td>...</td>\n      <td>...</td>\n      <td>...</td>\n    </tr>\n    <tr>\n      <th>151</th>\n      <td>1</td>\n      <td>37</td>\n      <td>8</td>\n      <td>15</td>\n      <td>2017</td>\n      <td>08</td>\n    </tr>\n    <tr>\n      <th>152</th>\n      <td>1</td>\n      <td>35</td>\n      <td>8</td>\n      <td>18</td>\n      <td>2017</td>\n      <td>09</td>\n    </tr>\n    <tr>\n      <th>153</th>\n      <td>1</td>\n      <td>34</td>\n      <td>8</td>\n      <td>20</td>\n      <td>2017</td>\n      <td>10</td>\n    </tr>\n    <tr>\n      <th>154</th>\n      <td>2</td>\n      <td>69</td>\n      <td>14</td>\n      <td>37</td>\n      <td>2017</td>\n      <td>11</td>\n    </tr>\n    <tr>\n      <th>155</th>\n      <td>2</td>\n      <td>76</td>\n      <td>16</td>\n      <td>49</td>\n      <td>2017</td>\n      <td>12</td>\n    </tr>\n  </tbody>\n</table>\n<p>156 rows × 6 columns</p>\n</div>"
     },
     "metadata": {},
     "execution_count": 5
    }
   ],
   "source": [
    "# Drop the col that's no longer needed.\n",
    "cleaned_google_trends_df = google_trends_df.drop('year_month', axis=1)\n",
    "cleaned_google_trends_df"
   ]
  },
  {
   "cell_type": "code",
   "execution_count": 6,
   "metadata": {},
   "outputs": [],
   "source": [
    "# Export to a JSON format\n",
    "# https://stackoverflow.com/questions/39257147/convert-pandas-dataframe-to-json-format\n",
    "google_trends = cleaned_google_trends_df.to_json(orient = \"records\")"
   ]
  },
  {
   "cell_type": "code",
   "execution_count": 7,
   "metadata": {},
   "outputs": [],
   "source": [
    "# Output to a json file for record\n",
    "with open('google_trends.json', 'w') as f:\n",
    "    f.write(google_trends)\n",
    "\n",
    "google_trends_df.to_csv('google_trends.csv')"
   ]
  },
  {
   "cell_type": "code",
   "execution_count": 8,
   "metadata": {},
   "outputs": [
    {
     "output_type": "execute_result",
     "data": {
      "text/plain": [
       "   Unnamed: 0  Rank                               Name Platform  \\\n",
       "0           0  5001  Prince of Persia: The Two Thrones       XB   \n",
       "1           1  5002                         I Am Bread       PC   \n",
       "2           2  5003               Gex: Enter The Gecko       PS   \n",
       "3           3  5004             Shrek 2: Beg for Mercy      GBA   \n",
       "4           4  5005          Contra: Shattered Soldier      PS2   \n",
       "\n",
       "                             Publisher      Developer  Critic_Score  \\\n",
       "0                     Ubisoft Montreal        Ubisoft           NaN   \n",
       "1                        Bossa Studios  Bossa Studios           NaN   \n",
       "2                     Crystal Dynamics   Midway Games           NaN   \n",
       "3                    Vicarious Visions     Activision           NaN   \n",
       "4  Konami Computer Entertainment Tokyo         Konami           7.3   \n",
       "\n",
       "   User_Score Global_Sales NA_Sales EU_Sales JP_Sales Other_Sales         Year  \n",
       "0         NaN        0.58m    0.33m    0.22m      NaN       0.03m  01st Dec 05  \n",
       "1         NaN          NaN      NaN      NaN      NaN         NaN  09th Apr 15  \n",
       "2         NaN        0.58m    0.32m    0.22m      NaN       0.04m  31st Jan 98  \n",
       "3         NaN        0.58m    0.42m    0.15m      NaN       0.01m  27th Oct 04  \n",
       "4         NaN        0.58m    0.28m    0.22m      NaN       0.07m  22nd Oct 02  "
      ],
      "text/html": "<div>\n<style scoped>\n    .dataframe tbody tr th:only-of-type {\n        vertical-align: middle;\n    }\n\n    .dataframe tbody tr th {\n        vertical-align: top;\n    }\n\n    .dataframe thead th {\n        text-align: right;\n    }\n</style>\n<table border=\"1\" class=\"dataframe\">\n  <thead>\n    <tr style=\"text-align: right;\">\n      <th></th>\n      <th>Unnamed: 0</th>\n      <th>Rank</th>\n      <th>Name</th>\n      <th>Platform</th>\n      <th>Publisher</th>\n      <th>Developer</th>\n      <th>Critic_Score</th>\n      <th>User_Score</th>\n      <th>Global_Sales</th>\n      <th>NA_Sales</th>\n      <th>EU_Sales</th>\n      <th>JP_Sales</th>\n      <th>Other_Sales</th>\n      <th>Year</th>\n    </tr>\n  </thead>\n  <tbody>\n    <tr>\n      <th>0</th>\n      <td>0</td>\n      <td>5001</td>\n      <td>Prince of Persia: The Two Thrones</td>\n      <td>XB</td>\n      <td>Ubisoft Montreal</td>\n      <td>Ubisoft</td>\n      <td>NaN</td>\n      <td>NaN</td>\n      <td>0.58m</td>\n      <td>0.33m</td>\n      <td>0.22m</td>\n      <td>NaN</td>\n      <td>0.03m</td>\n      <td>01st Dec 05</td>\n    </tr>\n    <tr>\n      <th>1</th>\n      <td>1</td>\n      <td>5002</td>\n      <td>I Am Bread</td>\n      <td>PC</td>\n      <td>Bossa Studios</td>\n      <td>Bossa Studios</td>\n      <td>NaN</td>\n      <td>NaN</td>\n      <td>NaN</td>\n      <td>NaN</td>\n      <td>NaN</td>\n      <td>NaN</td>\n      <td>NaN</td>\n      <td>09th Apr 15</td>\n    </tr>\n    <tr>\n      <th>2</th>\n      <td>2</td>\n      <td>5003</td>\n      <td>Gex: Enter The Gecko</td>\n      <td>PS</td>\n      <td>Crystal Dynamics</td>\n      <td>Midway Games</td>\n      <td>NaN</td>\n      <td>NaN</td>\n      <td>0.58m</td>\n      <td>0.32m</td>\n      <td>0.22m</td>\n      <td>NaN</td>\n      <td>0.04m</td>\n      <td>31st Jan 98</td>\n    </tr>\n    <tr>\n      <th>3</th>\n      <td>3</td>\n      <td>5004</td>\n      <td>Shrek 2: Beg for Mercy</td>\n      <td>GBA</td>\n      <td>Vicarious Visions</td>\n      <td>Activision</td>\n      <td>NaN</td>\n      <td>NaN</td>\n      <td>0.58m</td>\n      <td>0.42m</td>\n      <td>0.15m</td>\n      <td>NaN</td>\n      <td>0.01m</td>\n      <td>27th Oct 04</td>\n    </tr>\n    <tr>\n      <th>4</th>\n      <td>4</td>\n      <td>5005</td>\n      <td>Contra: Shattered Soldier</td>\n      <td>PS2</td>\n      <td>Konami Computer Entertainment Tokyo</td>\n      <td>Konami</td>\n      <td>7.3</td>\n      <td>NaN</td>\n      <td>0.58m</td>\n      <td>0.28m</td>\n      <td>0.22m</td>\n      <td>NaN</td>\n      <td>0.07m</td>\n      <td>22nd Oct 02</td>\n    </tr>\n  </tbody>\n</table>\n</div>"
     },
     "metadata": {},
     "execution_count": 8
    }
   ],
   "source": [
    "# Import Video Games Global Sales in Volume 1983-2017\n",
    "# Source: https://data.world/julienf/video-games-global-sales-in-volume-1983-2017\n",
    "\n",
    "sales_df = pd.read_csv('resources/vgsales-20210428-18_46_23.csv')\n",
    "sales_df.head()"
   ]
  },
  {
   "cell_type": "code",
   "execution_count": 9,
   "metadata": {},
   "outputs": [
    {
     "output_type": "execute_result",
     "data": {
      "text/plain": [
       "Unnamed: 0      2026\n",
       "Rank            2026\n",
       "Name            2026\n",
       "Platform        2026\n",
       "Publisher       2026\n",
       "Developer       2026\n",
       "Critic_Score     553\n",
       "User_Score        26\n",
       "Global_Sales    1839\n",
       "NA_Sales        1569\n",
       "EU_Sales        1522\n",
       "JP_Sales         593\n",
       "Other_Sales     1683\n",
       "Year            1906\n",
       "dtype: int64"
      ]
     },
     "metadata": {},
     "execution_count": 9
    }
   ],
   "source": [
    "# Checking to see whethe any cols are missing.\n",
    "sales_df.count()"
   ]
  },
  {
   "cell_type": "code",
   "execution_count": 10,
   "metadata": {},
   "outputs": [],
   "source": [
    "# Convert the date field into separate year and month\n",
    "sales_df['Year'] = pd.to_datetime(sales_df['Year'])\n",
    "sales_df[['year', 'month']] = sales_df['Year'].dt.strftime('%Y-%m').str.split('-',expand=True)\n",
    "sales_df.drop(['Year'], axis=1, inplace=True)"
   ]
  },
  {
   "cell_type": "code",
   "execution_count": 11,
   "metadata": {},
   "outputs": [
    {
     "output_type": "execute_result",
     "data": {
      "text/plain": [
       "   Rank                               Name Platform  \\\n",
       "0  5001  Prince of Persia: The Two Thrones       XB   \n",
       "1  5002                         I Am Bread       PC   \n",
       "2  5003               Gex: Enter The Gecko       PS   \n",
       "3  5004             Shrek 2: Beg for Mercy      GBA   \n",
       "4  5005          Contra: Shattered Soldier      PS2   \n",
       "\n",
       "                             Publisher      Developer  Critic_Score  \\\n",
       "0                     Ubisoft Montreal        Ubisoft           NaN   \n",
       "1                        Bossa Studios  Bossa Studios           NaN   \n",
       "2                     Crystal Dynamics   Midway Games           NaN   \n",
       "3                    Vicarious Visions     Activision           NaN   \n",
       "4  Konami Computer Entertainment Tokyo         Konami           7.3   \n",
       "\n",
       "   User_Score Global_Sales NA_Sales EU_Sales JP_Sales Other_Sales  year month  \n",
       "0         NaN        0.58m    0.33m    0.22m      NaN       0.03m  2005    12  \n",
       "1         NaN          NaN      NaN      NaN      NaN         NaN  2015    04  \n",
       "2         NaN        0.58m    0.32m    0.22m      NaN       0.04m  1998    01  \n",
       "3         NaN        0.58m    0.42m    0.15m      NaN       0.01m  2004    10  \n",
       "4         NaN        0.58m    0.28m    0.22m      NaN       0.07m  2002    10  "
      ],
      "text/html": "<div>\n<style scoped>\n    .dataframe tbody tr th:only-of-type {\n        vertical-align: middle;\n    }\n\n    .dataframe tbody tr th {\n        vertical-align: top;\n    }\n\n    .dataframe thead th {\n        text-align: right;\n    }\n</style>\n<table border=\"1\" class=\"dataframe\">\n  <thead>\n    <tr style=\"text-align: right;\">\n      <th></th>\n      <th>Rank</th>\n      <th>Name</th>\n      <th>Platform</th>\n      <th>Publisher</th>\n      <th>Developer</th>\n      <th>Critic_Score</th>\n      <th>User_Score</th>\n      <th>Global_Sales</th>\n      <th>NA_Sales</th>\n      <th>EU_Sales</th>\n      <th>JP_Sales</th>\n      <th>Other_Sales</th>\n      <th>year</th>\n      <th>month</th>\n    </tr>\n  </thead>\n  <tbody>\n    <tr>\n      <th>0</th>\n      <td>5001</td>\n      <td>Prince of Persia: The Two Thrones</td>\n      <td>XB</td>\n      <td>Ubisoft Montreal</td>\n      <td>Ubisoft</td>\n      <td>NaN</td>\n      <td>NaN</td>\n      <td>0.58m</td>\n      <td>0.33m</td>\n      <td>0.22m</td>\n      <td>NaN</td>\n      <td>0.03m</td>\n      <td>2005</td>\n      <td>12</td>\n    </tr>\n    <tr>\n      <th>1</th>\n      <td>5002</td>\n      <td>I Am Bread</td>\n      <td>PC</td>\n      <td>Bossa Studios</td>\n      <td>Bossa Studios</td>\n      <td>NaN</td>\n      <td>NaN</td>\n      <td>NaN</td>\n      <td>NaN</td>\n      <td>NaN</td>\n      <td>NaN</td>\n      <td>NaN</td>\n      <td>2015</td>\n      <td>04</td>\n    </tr>\n    <tr>\n      <th>2</th>\n      <td>5003</td>\n      <td>Gex: Enter The Gecko</td>\n      <td>PS</td>\n      <td>Crystal Dynamics</td>\n      <td>Midway Games</td>\n      <td>NaN</td>\n      <td>NaN</td>\n      <td>0.58m</td>\n      <td>0.32m</td>\n      <td>0.22m</td>\n      <td>NaN</td>\n      <td>0.04m</td>\n      <td>1998</td>\n      <td>01</td>\n    </tr>\n    <tr>\n      <th>3</th>\n      <td>5004</td>\n      <td>Shrek 2: Beg for Mercy</td>\n      <td>GBA</td>\n      <td>Vicarious Visions</td>\n      <td>Activision</td>\n      <td>NaN</td>\n      <td>NaN</td>\n      <td>0.58m</td>\n      <td>0.42m</td>\n      <td>0.15m</td>\n      <td>NaN</td>\n      <td>0.01m</td>\n      <td>2004</td>\n      <td>10</td>\n    </tr>\n    <tr>\n      <th>4</th>\n      <td>5005</td>\n      <td>Contra: Shattered Soldier</td>\n      <td>PS2</td>\n      <td>Konami Computer Entertainment Tokyo</td>\n      <td>Konami</td>\n      <td>7.3</td>\n      <td>NaN</td>\n      <td>0.58m</td>\n      <td>0.28m</td>\n      <td>0.22m</td>\n      <td>NaN</td>\n      <td>0.07m</td>\n      <td>2002</td>\n      <td>10</td>\n    </tr>\n  </tbody>\n</table>\n</div>"
     },
     "metadata": {},
     "execution_count": 11
    }
   ],
   "source": [
    "# Drop the first, unnamed column as it is not needed\n",
    "sales_df.drop(sales_df.columns[[0]], axis = 1, inplace = True)\n",
    "sales_df.head()"
   ]
  },
  {
   "cell_type": "code",
   "execution_count": 12,
   "metadata": {},
   "outputs": [],
   "source": [
    "# Replace m(illion) in Sales figures.\n",
    "columns = ['Global_Sales', 'NA_Sales', 'EU_Sales', 'JP_Sales' , 'Other_Sales']\n",
    "\n",
    "for col in columns:\n",
    "    sales_df[col] = sales_df[col].str.replace('m','')"
   ]
  },
  {
   "cell_type": "code",
   "execution_count": 13,
   "metadata": {},
   "outputs": [],
   "source": [
    "sales = sales_df.to_json(orient = \"records\")\n",
    "\n",
    "with open('sales.json', 'w') as f:\n",
    "    f.write(sales)\n",
    "\n",
    "sales_df.to_csv('sales.csv')"
   ]
  },
  {
   "cell_type": "code",
   "execution_count": 14,
   "metadata": {},
   "outputs": [
    {
     "output_type": "error",
     "ename": "SyntaxError",
     "evalue": "unexpected EOF while parsing (<ipython-input-14-5ada848c4388>, line 1)",
     "traceback": [
      "\u001b[0;36m  File \u001b[0;32m\"<ipython-input-14-5ada848c4388>\"\u001b[0;36m, line \u001b[0;32m1\u001b[0m\n\u001b[0;31m    engine = create_engine(\u001b[0m\n\u001b[0m                           ^\u001b[0m\n\u001b[0;31mSyntaxError\u001b[0m\u001b[0;31m:\u001b[0m unexpected EOF while parsing\n"
     ]
    }
   ],
   "source": [
    "engine = create_engine("
   ]
  }
 ]
}